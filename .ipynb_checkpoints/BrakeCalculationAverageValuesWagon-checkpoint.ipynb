{
 "cells": [
  {
   "cell_type": "code",
   "execution_count": null,
   "metadata": {},
   "outputs": [],
   "source": [
    "# Import packages for calculation and plotting\n",
    "import numpy as np\n",
    "import matplotlib.pyplot as plt\n",
    "from matplotlib.ticker import MultipleLocator, ScalarFormatter, AutoMinorLocator\n",
    "# Pandas for convenient table export\n",
    "import pandas as pd"
   ]
  },
  {
   "cell_type": "markdown",
   "metadata": {},
   "source": [
    "## Brake system information\n",
    "\n",
    "- Type TB: Tread Brake\n",
    "- $p_C$: Brake cylinder pressure [Pa]\n",
    "- $A_C$: Brake cylinder area [cm$^2$]\n",
    "- $i_C$: Cylinder transmission ratio [1]\n",
    "- $\\eta_C$: Cylinder efficiency [1]\n",
    "- $F_{s,C}$: Return spring force [N]\n",
    "- $i_{rig}$: Brake rigging transmission rate before slack adjuster [1]\n",
    "- $l_a$: Lever a (cylinder - pivot) [m]\n",
    "- $l_b$: Lever b (pivot - interface) [m]\n",
    "- $i_{R}$: Total transmission ratio after slack adjuster [1]\n",
    "- $\\eta_{R}$: Brake rigging efficiency [1]\n",
    "- $F_{S,R}$: Brake rigging return spring force [N]\n",
    "- $i_{rig,ax}$: Brake rigging transmission rate at wheel [1]\n",
    "- $l_{a,ax}$: Lever a (cylinder - pivot) [m]\n",
    "- $l_{b, ax}$: Lever b (pivot - interface) [m]\n",
    "- $\\mu_m$: Average brake pad or block friction coefficient [1]\n",
    "- $n_{ax}$: Number of braked wheelsets\n",
    "- $n_{ap}$: Number of force entry points\n",
    "- $t_a$: Delay time of cylinder pressure [s]\n",
    "- $t_{ab}$: Rise time of cylinder pressure [s]\n",
    "- $m_{st}$: Operating mass vehicle ready for service (per axle) [kg]\n",
    "- $m_{rot}$: Rotating mass (per axle) [kg]"
   ]
  },
  {
   "cell_type": "markdown",
   "metadata": {},
   "source": [
    "\n",
    "\n",
    "![Wagon arrangement](TBTransmission.png)"
   ]
  },
  {
   "cell_type": "markdown",
   "metadata": {},
   "source": [
    "## Brake system parameters"
   ]
  },
  {
   "cell_type": "code",
   "execution_count": null,
   "metadata": {},
   "outputs": [],
   "source": [
    "pC = 3.8e5\n",
    "AC = 0.1295 \n",
    "iC = 1  \n",
    "etaC = .98 \n",
    "FsC = -1500\n",
    "la = 0.515\n",
    "lb =0.325\n",
    "irig = la/lb\n",
    "nax = 4\n",
    "nap = 2\n",
    "laax = 0.5\n",
    "lbax = 0.5\n",
    "irigax = laax/lbax\n",
    "iR = nax*nap*irigax\n",
    "etaR = 0.83\n",
    "FSR = -2000 \n",
    "mum = 0.12 \n",
    "ta = 0.2 \n",
    "tab = 4\n",
    "mst = 90000\n",
    "mrot = 3600"
   ]
  },
  {
   "cell_type": "markdown",
   "metadata": {},
   "source": [
    "### Calculation of Forces\n",
    "\n",
    "#### Brake cylinder force\n",
    "\n",
    "Brake cylinder force is identical for disc and tread brake.\n",
    "\n",
    "$$\n",
    "F_C = p_C A_C i_C \\eta_C + F_{c,C}\n",
    "$$\n",
    "\n",
    "#### Total force on force entry points\n",
    "\n",
    "$$\n",
    "F_b = (F_C i_{rig} + F_{S,R})i_R \\eta_R\n",
    "$$\n",
    "with\n",
    "$$\n",
    "i_{rig} = \\frac{l_a}{l_b}\n",
    "$$\n",
    "and\n",
    "$$\n",
    "i_R = n_{ax} n_{ap} i_{rig,ax} = n_{ax} n_{ap} \\frac{l_{a,ax}}{l_{b,ax}}.\n",
    "$$\n",
    "#### Mean total force for tread brake arrangement\n",
    "\n",
    "$$\n",
    "\\bar{F}_B,C = F_b \\mu_m\n",
    "$$\n",
    "\n",
    "#### Force on single entry point\n",
    "$$\n",
    "F_n = \\frac{F_b}{2 n_{ax} n_{ap}}\n",
    "$$"
   ]
  },
  {
   "cell_type": "code",
   "execution_count": null,
   "metadata": {},
   "outputs": [],
   "source": [
    "# Brake cylinder force\n",
    "FC = pC*AC*iC*etaC + FsC\n",
    "print(f'Brake cylinder force: {np.round(FC)} N')\n",
    "# Total force on entry points\n",
    "Fb = (FC*irig +FSR)*iR*etaR\n",
    "print(f'Total force on entry points: {np.round(Fb)} N')\n",
    "# Average total brake force\n",
    "FB = Fb*mum\n",
    "print(f'Total brake force: {np.round(FB)} N')\n",
    "# Force per force entry point (block)\n",
    "Fn = Fb/(2*nax*nap)\n",
    "print(f'Force on one entry pointr: {np.round(Fn)} N')"
   ]
  },
  {
   "cell_type": "markdown",
   "metadata": {},
   "source": [
    "#### Equivalent brake build-up time\n",
    "\n",
    "\\begin{equation}\n",
    "t_{e,i} = t_a + \\frac{t_{ab}}{2}\n",
    "\\end{equation}"
   ]
  },
  {
   "cell_type": "code",
   "execution_count": null,
   "metadata": {},
   "outputs": [],
   "source": [
    "# Equivalent brake build-up time\n",
    "te = ta + 0.5*tab\n",
    "print(f'Brake buildup time: {np.round(te, 2)} s')"
   ]
  },
  {
   "cell_type": "markdown",
   "metadata": {},
   "source": [
    "## Stopping distance calculation\n",
    "\n",
    "Following losely EN 14531, App. D. The present calculcation takes into account rotating masses and a resistance force."
   ]
  },
  {
   "cell_type": "code",
   "execution_count": null,
   "metadata": {},
   "outputs": [],
   "source": [
    "# Initial velocity\n",
    "v0 = 80/3.6\n",
    "# Terminal velocity\n",
    "vfin = 0"
   ]
  },
  {
   "cell_type": "markdown",
   "metadata": {},
   "source": [
    "### Dynamical mass (train level)\n",
    "\n",
    "$$\n",
    "m_{dyn} = \\Sigma\\left(m_{st} + m_{rot} \\right)\n",
    "$$"
   ]
  },
  {
   "cell_type": "code",
   "execution_count": null,
   "metadata": {},
   "outputs": [],
   "source": [
    "mdyn = mst + mrot"
   ]
  },
  {
   "cell_type": "markdown",
   "metadata": {},
   "source": [
    "### Mean resistance\n",
    "\n",
    "Ride resistance is calculcated as \n",
    "\n",
    "$$\n",
    "\\bar{F}_{Ra} = A + \\frac{2}{3} B \\frac{v_0^2 + v_0 v_{fin} + v_{fin}^2}{v_0 + v_{fin}} + \\frac{1}{2} C \\left(v_0^2 + v_{fin}^2\\right)\n",
    "$$\n",
    "\n",
    "with coefficients $A$, $B$ and $C$ according to Strahl equation."
   ]
  },
  {
   "cell_type": "code",
   "execution_count": null,
   "metadata": {},
   "outputs": [],
   "source": [
    "# Vehicle data, resistance coefficients\n",
    "A = 1.6e-3*mst*9.81\n",
    "B = 0\n",
    "C = 5.7e-3*3.6**2/1e5*mst*9.81\n",
    "\n",
    "FRa = A + 2/3*B*(v0**2 + v0*vfin + vfin**2)/(v0+vfin) + 1/2*C*(v0**2+vfin**2)\n",
    "print(f'Mean resistance force: {np.round(FRa, 1)} N')"
   ]
  },
  {
   "cell_type": "markdown",
   "metadata": {},
   "source": [
    "### Equivalent retardation\n",
    "\n",
    "$$\n",
    "a_e = \\frac{\\Sigma\\bar{F}_{B,i} + \\Sigma\\bar{F}_{ext}}{m_{dyn}}\n",
    "$$"
   ]
  },
  {
   "cell_type": "code",
   "execution_count": null,
   "metadata": {},
   "outputs": [],
   "source": [
    "Fext = - FRa\n",
    "ae = (FB + Fext)/mdyn\n",
    "print(f'Equivalent deceleration: {np.round(ae, 2)} m/s/s')"
   ]
  },
  {
   "cell_type": "markdown",
   "metadata": {},
   "source": [
    "### Stopping distance\n",
    "\n",
    "$$\n",
    "s = v_0 t_e + \\frac{v_0^2 - v_{fin}^2}{2 a_e}\n",
    "$$"
   ]
  },
  {
   "cell_type": "code",
   "execution_count": null,
   "metadata": {},
   "outputs": [],
   "source": [
    "s = v0*te + (v0**2 - vfin**2)/(2*ae)\n",
    "print(f'Stopping distance from {np.round(v0)} m/s: {np.round(s, 1)} m')"
   ]
  },
  {
   "cell_type": "markdown",
   "metadata": {},
   "source": [
    "### Required adhesion\n",
    "\n",
    "$$\n",
    "\\tau_{req} = \\frac{\\Sigma_{ax} \\bar{F}_{B,i} - m_{rot, i} a_e}{m_{st} g}\n",
    "$$"
   ]
  },
  {
   "cell_type": "code",
   "execution_count": null,
   "metadata": {},
   "outputs": [],
   "source": [
    "taureq = (FB - mrot*ae)/(mst*9.81)\n",
    "print(f'Required adhesion: {np.round(taureq, 2)}')"
   ]
  },
  {
   "cell_type": "markdown",
   "metadata": {},
   "source": [
    "### Energy and power calculcations\n",
    "\n",
    "$$\n",
    "W_{B,i} = F_{B,i} \\left(s - v_0 t_e\\right)\n",
    "$$\n",
    "\n",
    "$$\n",
    "P_{max,i} = F_{B,i} v_0\n",
    "$$"
   ]
  },
  {
   "cell_type": "code",
   "execution_count": null,
   "metadata": {},
   "outputs": [],
   "source": [
    "WB = FB*(s-v0*te)\n",
    "Pmax = FB*v0\n",
    "print(f'Total Energy: {np.round(WB/1e6, 2)} MJ')\n",
    "print(f'Maximum Power: {np.round(Pmax/1e3, 2)} kW')"
   ]
  },
  {
   "cell_type": "markdown",
   "metadata": {},
   "source": [
    "### Braked weight ratio\n",
    "\n",
    "#### Replicate tests\n",
    "\n",
    "Repeated brake distance measurements for 120 km/h, ...,100 km/h.\n",
    "\n"
   ]
  },
  {
   "cell_type": "code",
   "execution_count": null,
   "metadata": {},
   "outputs": [],
   "source": [
    "v0list = [100, 120]\n",
    "bsdict = {}\n",
    "for v0 in v0list:\n",
    "    v0str = str(v0)\n",
    "    v0 = v0/3.6 # Convert to m/s\n",
    "    s = v0*te + (v0**2 - vfin**2)/(2*ae)\n",
    "    bsdict[v0str] = s"
   ]
  },
  {
   "cell_type": "markdown",
   "metadata": {},
   "source": [
    "#### Plot braking distances\n",
    "\n",
    "Into plot according to EN 16834."
   ]
  },
  {
   "cell_type": "code",
   "execution_count": null,
   "metadata": {},
   "outputs": [],
   "source": [
    "CDdict = {'100': [52840, 10],\n",
    "'120': [83634, 19]}\n",
    "\n",
    "# Single vehicles\n",
    "\n",
    "curvedict = {}\n",
    "for v in list(CDdict.keys())[1:]:\n",
    "    l = np.arange(start = 40, stop = 250, step = 10)\n",
    "    params = CDdict[str(v)]\n",
    "    c = params[0]/(l+params[1])\n",
    "    curvedict[str(v)] = c\n",
    "for v in [100]:\n",
    "    l = np.arange(start = 50, stop = 140, step = 10)\n",
    "    params = CDdict[str(v)]\n",
    "    c = params[0]/(l+params[1])\n",
    "    curvedict[str(v)] = c\n",
    "    \n",
    "# Plotting\n",
    "fig = plt.figure(figsize = (16, 9))\n",
    "# Add measurements\n",
    "bslambda = []\n",
    "for v in list(CDdict.keys()):\n",
    "    params = CDdict[str(v)]\n",
    "    s = bsdict[str(v)]\n",
    "    bslambda.append(params[0]/s-params[1])\n",
    "plt.loglog(bslambda, list(bsdict.values()), 'X--', \n",
    "           linewidth = 2, label = \"Calculations\")\n",
    "plt.annotate('$\\lambda = $' + str(int(np.floor(np.min(bslambda)))) + '%', \n",
    "             (bslambda[0], list(bsdict.values())[0]),\n",
    "            verticalalignment = 'top',\n",
    "            xytext = (bslambda[0]+3, list(bsdict.values())[0]+25))\n",
    "# Standard curves\n",
    "for v in list(CDdict.keys())[1:]:\n",
    "    c = curvedict[str(v)]\n",
    "    l = np.arange(start = 40, stop = 250, step = 10)\n",
    "    plt.loglog(l, c)\n",
    "    plt.annotate(str(v) + ' km/h', (l[-1],c[-1]))\n",
    "for v in [100]:\n",
    "    c = curvedict[str(v)]\n",
    "    l = np.arange(start = 50, stop = 140, step = 10)\n",
    "    plt.loglog(l, c)\n",
    "    plt.annotate(str(v) + ' km/h', (l[-1],c[-1]))\n",
    "plt.legend(fontsize = 16)\n",
    "# Limit axes\n",
    "plt.ylim(300, 2600)\n",
    "# Set ticks\n",
    "plt.gca().set_yticks(ticks=np.arange(300, 2600, 100), minor = False)\n",
    "plt.gca().set_yticklabels(labels=np.arange(300, 2600, 100), minor = False)\n",
    "plt.gca().set_yticks(ticks=np.arange(300, 2600, 25), minor = True)\n",
    "plt.gca().set_yticklabels(labels=[], minor = True)\n",
    "plt.xticks(ticks=np.arange(30, 260, 10), labels=np.arange(300, 2600, 100))\n",
    "# Set labels\n",
    "plt.gca().xaxis.set_major_formatter(ScalarFormatter(useOffset=False, useMathText=True))\n",
    "plt.gca().yaxis.set_major_formatter(ScalarFormatter(useOffset=False, useMathText=True))\n",
    "# Activate grid\n",
    "plt.grid(visible = True, which = 'major', linewidth = 2)\n",
    "plt.grid(visible = True, which = 'minor', linewidth = 1)\n",
    "# Axis labels\n",
    "plt.xlabel('Braked weight ratio $\\lambda/\\%$', fontsize = 16)\n",
    "plt.ylabel('Braking distance $s/\\mathrm{m}$', fontsize = 16)\n",
    "plt.title('Brake Assesment for Single Vehicle', fontsize = 20)\n",
    "plt.xlim(40, 240)"
   ]
  },
  {
   "cell_type": "markdown",
   "metadata": {},
   "source": [
    "## Plot of braked weight over vehicle mass\n"
   ]
  },
  {
   "cell_type": "code",
   "execution_count": null,
   "metadata": {},
   "outputs": [],
   "source": [
    "CDdict = {'100': [52840, 10],\n",
    "'120': [83634, 19]}\n",
    "\n",
    "pCloaded = 3.8e5\n",
    "pCempty = 2.2e5\n",
    "mchangeover = 48000\n",
    "mrange = np.arange(start = 25000, stop = 90000, step = 1000)\n",
    "v0list = [100, 120]\n",
    "vfin = 0\n",
    "FRa = A + 2/3*B*(v0**2 + v0*vfin + vfin**2)/(v0+vfin) + 1/2*C*(v0**2+vfin**2)\n",
    "ax1 = plt.subplot(2,1,1)\n",
    "ax2 = plt.subplot(2,1,2)\n",
    "for v in v0list:\n",
    "    mlist = []\n",
    "    taulist = []\n",
    "    lambdalist = []\n",
    "    for m in mrange:\n",
    "        v0 = v/3.6\n",
    "        mlist.append(m)\n",
    "        params = CDdict[str(v)]\n",
    "        if m > mchangeover:\n",
    "            pC = pCloaded\n",
    "        else:\n",
    "            pC = pCempty\n",
    "        # Brake cylinder force\n",
    "        FC = pC*AC*iC*etaC + FsC\n",
    "        # Total force on entry points\n",
    "        Fb = (FC*irig +FSR)*iR*etaR\n",
    "        # Average total brake force\n",
    "        FB = Fb*mum\n",
    "        Fext = - FRa\n",
    "        mdyn = m + mrot\n",
    "        Fext = - FRa\n",
    "        ae = (FB + Fext)/mdyn\n",
    "        s = v0*te + (v0**2 - vfin**2)/(2*ae)\n",
    "        lambdalist.append(params[0]/s-params[1])\n",
    "        taureq = (FB - mrot*ae)/(m*9.81)\n",
    "        taulist.append(taureq)\n",
    "    ax1.plot(mlist, lambdalist, label = f'v = {v} km/h')\n",
    "    ax1.legend()\n",
    "    ax1.set_ylabel('$\\lambda$')\n",
    "    ax2.plot(mlist, taulist, label = f'v = {v} km/h')\n",
    "    ax2.legend()\n",
    "    ax2.set_ylabel('$\\tau$')\n",
    "    ax2.set_xlabel('m/kg')"
   ]
  }
 ],
 "metadata": {
  "kernelspec": {
   "display_name": "base",
   "language": "python",
   "name": "base"
  },
  "language_info": {
   "codemirror_mode": {
    "name": "ipython",
    "version": 3
   },
   "file_extension": ".py",
   "mimetype": "text/x-python",
   "name": "python",
   "nbconvert_exporter": "python",
   "pygments_lexer": "ipython3",
   "version": "3.8.18"
  },
  "vscode": {
   "interpreter": {
    "hash": "aee8b7b246df8f9039afb4144a1f6fd8d2ca17a180786b69acc140d282b71a49"
   }
  }
 },
 "nbformat": 4,
 "nbformat_minor": 4
}

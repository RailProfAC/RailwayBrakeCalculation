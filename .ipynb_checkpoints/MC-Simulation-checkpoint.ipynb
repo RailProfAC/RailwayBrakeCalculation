{
 "cells": [
  {
   "cell_type": "code",
   "execution_count": 1,
   "metadata": {},
   "outputs": [],
   "source": [
    "# Import packages for calculation and plotting\n",
    "import numpy as np\n",
    "import matplotlib.pyplot as plt\n",
    "from matplotlib.ticker import MultipleLocator, ScalarFormatter, AutoMinorLocator\n",
    "# Pandas for convenient table export\n",
    "import pandas as pd"
   ]
  },
  {
   "cell_type": "markdown",
   "metadata": {},
   "source": [
    "# Monte Carlo simulation of braking distances\n",
    "\n",
    "## Brake station information\n",
    "\n",
    "- Type: Type of brake system\n",
    "\n",
    "    - TB: Tread Brake\n",
    "    - DB: Disc Brake\n",
    "\n",
    "- $p_C$: Brake cylinder pressure [Pa]\n",
    "- $A_C$: Brake cylinder area [m$^2$]\n",
    "- $i_C$: Cylinder transmission ratio [1]\n",
    "- $\\eta_C$: Cylinder efficiency [1]\n",
    "- $F_{s,C}$: Return spring force [N]\n",
    "- $i_{rig}$: Brake rigging transmission rate [1]\n",
    "- $\\eta_{rig,dyn}$: Brake rigging efficiency [1]\n",
    "- $F_{s,rig}$: Brake rigging return spring force [N]\n",
    "- $\\mu_m$: Average brake pad or block friction coefficient [1]\n",
    "- $r_S$: Effective friction radius [m]\n",
    "- $D$: Wheel diameter [m]\n",
    "- $t_a$: Delay time of cylinder pressure [s]\n",
    "- $t_{ab}$: Rise time of cylinder pressure [s]\n",
    "- $m_{st}$: Operating mass vehicle ready for service (per axle) [kg]\n",
    "- $m_{rot}$: Rotating mass (per axle) [kg]"
   ]
  },
  {
   "cell_type": "markdown",
   "metadata": {},
   "source": [
    "### Example data\n",
    "\n",
    "Example data is a simplified version of EN14531-1, Appendix C.\n",
    "\n",
    "![Vehicle image](xMU.png)"
   ]
  },
  {
   "cell_type": "code",
   "execution_count": 10,
   "metadata": {},
   "outputs": [],
   "source": [
    "data = {'Type': ['1TB', '1TB', '1DB', '1DB', '1DB', '1DB','1TB', '1TB'],\n",
    "        'pC': [3.8, 3.8, 3.0, 3.0, 3.0, 3.0, 3.8, 3.8],\n",
    "        'AC': [346, 346, 324, 324, 324, 324, 346, 346], \n",
    "        'iC': [1, 1, 1, 1, 1, 1, 1, 1], \n",
    "        'etaC': [.95, .95, .98, .98, .98, .98, .95, .95], \n",
    "        'Fs,C': [-300, -300, -500, -500, -500, -500, -300, -300],\n",
    "        'irig': [5, 5, 5, 5, 5, 5, 5, 5], \n",
    "        'etarig,dyn': [0.95, 0.95, 0.95, 0.95, 0.95, 0.95, 0.95, 0.95], \n",
    "        'Fs,rig': [-500, -500, 0, 0, 0, 0, -500, -500], \n",
    "        'mum': [0.28, 0.28, 0.35, 0.35, 0.35, 0.35, 0.28, 0.28], \n",
    "        'rS': [.5, .5, 0.27, 0.27, 0.27, 0.27, .5, .5], \n",
    "        'D': [1, 1, 0.89, 0.89, 0.89, 0.89, 1, 1], \n",
    "        'ta': [0.6, 0.6, 0.3, 0.3, 0.3, 0.3, 0.6, 0.6], \n",
    "        'tab': [3, 3, 2, 2, 2, 2, 3, 3],\n",
    "        'mst': [15000, 15000, 14500, 14500, 14500, 14500, 15000, 15000],\n",
    "        'mrot': [1500, 1500, 700, 700, 700, 700, 1500, 1500]\n",
    "       }\n",
    "df = pd.DataFrame(data = data, columns = ['Type','pC', 'AC', 'iC', 'etaC', 'Fs,C',\n",
    "                        'irig', 'etarig,dyn', 'Fs,rig', 'mum', \n",
    "                        'rS', 'D', 'ta', 'tab', 'mst', 'mrot'])\n",
    "df.to_excel('InputXMU.xlsx', index=False)"
   ]
  },
  {
   "cell_type": "markdown",
   "metadata": {},
   "source": [
    "### Calculation of Forces\n",
    "\n",
    "#### Brake cylinder force\n",
    "\n",
    "Brake cylinder force is identical for disc and tread brake.\n",
    "\n",
    "$$\n",
    "F_C = p_C A_C i_C \\eta_C + F_{c,C}\n",
    "$$\n",
    "\n",
    "#### Block or pad force\n",
    "\n",
    "Block or pad forces may also be covered similarly when taking into account that $F_{s, rig} = 0$ for disc brakes and potentially $F_n$ relates to more than one block.\n",
    "\n",
    "$$\n",
    "F_n = F_b = F_C i_{rig} \\eta_{rig, dyn} + F_{s, rig}\n",
    "$$\n",
    "\n",
    "#### Average force per brake unit\n",
    "\n",
    "This worksheet omits transmissions (with $i_{tra}$ and $\\eta_{tra}$). For tread brakes, select $r_S = \\frac{1}{2} D$.\n",
    "\n",
    "$$\n",
    "\\bar{F}_B,C = F_b \\mu_m \\frac{2 r_s}{D}\n",
    "$$"
   ]
  },
  {
   "cell_type": "markdown",
   "metadata": {},
   "source": [
    "#### Equivalent brake build-up time\n",
    "\n",
    "\\begin{equation}\n",
    "t_{e,i} = t_a + \\frac{t_{ab}}{2}\n",
    "\\end{equation}"
   ]
  },
  {
   "cell_type": "markdown",
   "metadata": {},
   "source": [
    "## Stopping distance calculation\n",
    "\n",
    "Following losely EN 14531, App. D. The present calculcation takes into account rotating masses and a resistance force."
   ]
  },
  {
   "cell_type": "markdown",
   "metadata": {},
   "source": [
    "### Dynamical mass (train level)\n",
    "\n",
    "$$\n",
    "m_{dyn} = \\Sigma\\left(m_{st} + m_{rot} \\right)\n",
    "$$"
   ]
  },
  {
   "cell_type": "markdown",
   "metadata": {},
   "source": [
    "### Mean resistance\n",
    "\n",
    "Ride resistance is calculcated as \n",
    "\n",
    "$$\n",
    "\\bar{F}_{Ra} = A + \\frac{2}{3} B \\frac{v_0^2 + v_0 v_{fin} + v_{fin}^2}{v_0 + v_{fin}} + \\frac{1}{2} C \\left(v_0^2 + v_{fin}^2\\right)\n",
    "$$\n",
    "\n",
    "with coefficients $A$, $B$ and $C$ according to the vehicle."
   ]
  },
  {
   "cell_type": "markdown",
   "metadata": {},
   "source": [
    "### Equivalent brake build up time\n",
    "\n",
    "$$\n",
    "t_e = \\frac{\\Sigma\\left(t_{e,i} \\bar{F}_{B,i} \\right)}{\\Sigma\\bar{F}_{B,i} + \\Sigma\\bar{F}_{ext}}\n",
    "$$\n",
    "\n"
   ]
  },
  {
   "cell_type": "markdown",
   "metadata": {},
   "source": [
    "### Equivalent retardation\n",
    "\n",
    "$$\n",
    "a_e = \\frac{\\Sigma\\bar{F}_{B,i} + \\Sigma\\bar{F}_{ext}}{m_{dyn}}\n",
    "$$"
   ]
  },
  {
   "cell_type": "markdown",
   "metadata": {},
   "source": [
    "### Stopping distance\n",
    "\n",
    "$$\n",
    "s = v_0 t_e + \\frac{v_0^2 - v_{fin}^2}{2 a_e}\n",
    "$$"
   ]
  },
  {
   "cell_type": "markdown",
   "metadata": {},
   "source": [
    "## Monte Carlo simulation\n",
    "\n",
    "Following the logic as the average calculation, but multiplying randomised factors to $\\mu$ and $p_C$.\n",
    "The simulation is then repeated $N$ times with random samples."
   ]
  },
  {
   "cell_type": "code",
   "execution_count": 36,
   "metadata": {},
   "outputs": [],
   "source": [
    "# Initial velocity\n",
    "v0 = 36\n",
    "# Terminal velocity\n",
    "vfin = 0\n",
    "# Equivalent brake build-up time\n",
    "df['te,i'] = df['ta'] + 0.5*df['tab']\n",
    "mdyn = df['mst'].sum() + df['mrot'].sum()\n",
    "# Vehicle data, resistance coefficients\n",
    "A = 3000\n",
    "B = 110\n",
    "C = 7\n",
    "# Resistance force\n",
    "FRa = A + 2/3*B*(v0**2 + v0*vfin + vfin**2)/(v0+vfin) + 1/2*C*(v0**2+vfin**2)\n",
    "Fext = FRa\n",
    "\n",
    "# Simulation parameter\n",
    "N = 10000\n",
    "#####################\n",
    "# Randomised factors\n",
    "mufactor = 1+0.1*np.random.randn(N)\n",
    "pfactor = 0.9+0.2*np.random.rand(N)\n",
    "# List for saving\n",
    "slist = []\n",
    "#####################\n",
    "#Repeated simulation\n",
    "for i in range(N):\n",
    "    # Brake cylinder force\n",
    "    df['FC'] = pfactor[i]*df['pC']*1e5*df['AC']*1e-4*df['iC']*df['etaC']+df['Fs,C']\n",
    "    # Block or pad force\n",
    "    df['Fb'] = df['FC']*df['irig']*df['etarig,dyn']+df['Fs,rig']\n",
    "    # Average force per brake unit\n",
    "    df['FB,i'] = mufactor[i]*df['Fb']*df['mum']*df['rS']/df['D']*2\n",
    "    te = (df['te,i'] * df['FB,i']).sum()/(df['FB,i'].sum() + Fext)\n",
    "    ae = (df['FB,i'].sum() + Fext)/mdyn\n",
    "    s = v0*te + (v0**2 - vfin**2)/(2*ae)\n",
    "    slist.append(s)"
   ]
  },
  {
   "cell_type": "markdown",
   "metadata": {},
   "source": [
    "## Plotting histogram of braking distances"
   ]
  },
  {
   "cell_type": "code",
   "execution_count": 37,
   "metadata": {},
   "outputs": [
    {
     "data": {
      "image/png": "[encoded data removed]",
      "text/plain": [
       "<Figure size 640x480 with 1 Axes>"
      ]
     },
     "metadata": {},
     "output_type": "display_data"
    }
   ],
   "source": [
    "plt.xlabel('$s$/m')\n",
    "plt.ylabel('Relative Frequency')\n",
    "plt.grid()\n",
    "plt.hist(slist, density = True, bins = 50, color = 'red')\n",
    "plt.savefig('DistanceDensity.pdf', dpi = 600, bbox_inches = 'tight') "
   ]
  },
  {
   "cell_type": "markdown",
   "metadata": {},
   "source": [
    "### Finding braking distances in excess of 1000 m"
   ]
  },
  {
   "cell_type": "code",
   "execution_count": 40,
   "metadata": {},
   "outputs": [
    {
     "name": "stdout",
     "output_type": "stream",
     "text": [
      "Exceeding 1000 m: 183 realisations\n",
      "Probability of exceeding 1000 m: 1.83 %\n",
      "Maximum braking distance_ 1185.0 m\n"
     ]
    }
   ],
   "source": [
    "sarray = np.array(slist)\n",
    "scrit = 1000\n",
    "n = len(sarray[sarray > scrit])\n",
    "print(f'Exceeding {scrit} m: {n} realisations')\n",
    "print(f'Probability of exceeding {scrit} m: {100*n/N} %')\n",
    "print(f'Maximum braking distance_ {np.round(np.max(sarray))} m')"
   ]
  }
 ],
 "metadata": {
  "kernelspec": {
   "display_name": "opencv",
   "language": "python",
   "name": "opencv"
  },
  "language_info": {
   "codemirror_mode": {
    "name": "ipython",
    "version": 3
   },
   "file_extension": ".py",
   "mimetype": "text/x-python",
   "name": "python",
   "nbconvert_exporter": "python",
   "pygments_lexer": "ipython3",
   "version": "3.8.18"
  }
 },
 "nbformat": 4,
 "nbformat_minor": 4
}

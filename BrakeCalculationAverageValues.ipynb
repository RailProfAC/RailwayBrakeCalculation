{
 "cells": [
  {
   "cell_type": "code",
   "execution_count": null,
   "metadata": {},
   "outputs": [],
   "source": [
    "# Import packages for calculation and plotting\n",
    "import numpy as np\n",
    "import matplotlib.pyplot as plt\n",
    "from matplotlib.ticker import MultipleLocator, ScalarFormatter, AutoMinorLocator\n",
    "# Pandas for convenient table export\n",
    "import pandas as pd"
   ]
  },
  {
   "cell_type": "markdown",
   "metadata": {},
   "source": [
    "## Brake station information\n",
    "\n",
    "- Type: Type of brake system\n",
    "\n",
    "    - TB: Tread Brake\n",
    "    - DB: Disc Brake\n",
    "\n",
    "- $p_C$: Brake cylinder pressure [Pa]\n",
    "- $A_C$: Brake cylinder area [m$^2$]\n",
    "- $i_C$: Cylinder transmission ratio [1]\n",
    "- $\\eta_C$: Cylinder efficiency [1]\n",
    "- $F_{s,C}$: Return spring force [N]\n",
    "- $i_{rig}$: Brake rigging transmission rate [1]\n",
    "- $\\eta_{rig,dyn}$: Brake rigging efficiency [1]\n",
    "- $F_{s,rig}$: Brake rigging return spring force [N]\n",
    "- $\\mu_m$: Average brake pad or block friction coefficient [1]\n",
    "- $r_S$: Effective friction radius [m]\n",
    "- $D$: Wheel diameter [m]\n",
    "- $t_a$: Delay time of cylinder pressure [s]\n",
    "- $t_{ab}$: Rise time of cylinder pressure [s]\n",
    "- $m_{st}$: Operating mass vehicle ready for service (per axle) [kg]\n",
    "- $m_{rot}$: Rotating mass (per axle) [kg]"
   ]
  },
  {
   "cell_type": "markdown",
   "metadata": {},
   "source": [
    "### Example data\n",
    "\n",
    "Example data is a simplified version of EN14531-1, Appendix C.\n",
    "\n",
    "![Vehicle image](xMU.png)"
   ]
  },
  {
   "cell_type": "code",
   "execution_count": null,
   "metadata": {},
   "outputs": [],
   "source": [
    "data = {'Type': ['1TB', '1TB', '1DB', '1DB', '1DB', '1DB','1TB', '1TB'],\n",
    "        'pC': [3.8, 3.8, 3.0, 3.0, 3.0, 3.0, 3.8, 3.8],\n",
    "        'AC': [346, 346, 324, 324, 324, 324, 346, 346], \n",
    "        'iC': [1, 1, 1, 1, 1, 1, 1, 1], \n",
    "        'etaC': [.95, .95, .98, .98, .98, .98, .95, .95], \n",
    "        'Fs,C': [-300, -300, -500, -500, -500, -500, -300],\n",
    "        'irig': [5, 5, 5, 5, 5, 5, 5, 5], \n",
    "        'etarig,dyn': [0.95, 0.95, 0.95, 0.95, 0.95, 0.95, 0.95, 0.95], \n",
    "        'Fs,rig': [-500, -500, 0, 0, 0, 0, -500, -500], \n",
    "        'mum': [0.28, 0.28, 0.35, 0.35, 0.35, 0.35, 0.28, 0.28], \n",
    "        'rS': [.5, .5, 0.27, 0.27, 0.27, 0.27, .5, .5], \n",
    "        'D': [1, 1, 0.89, 0.89, 0.89, 0.89, 1, 1], \n",
    "        'ta': [0.6, 0.6, 0.3, 0.3, 0.3, 0.3, 0.6, 0.6], \n",
    "        'tab': [3, 3, 2, 2, 2, 2, 3, 3],\n",
    "        'mst': [15000, 15000, 14500, 14500, 14500, 14500, 15000, 15000],\n",
    "        'mrot': [1500, 1500, 700, 700, 700, 700, 1500, 1500]\n",
    "       }\n",
    "df = pd.DataFrame(data = data, columns = ['Type','pC', 'AC', 'iC', 'etaC', 'Fs,C',\n",
    "                        'irig', 'etarig,dyn', 'Fs,rig', 'mum', \n",
    "                        'rS', 'D', 'ta', 'tab', 'mst', 'mrot'])\n",
    "# Uncomment for Excel export\n",
    "#df.to_excel('InputXMU.xlsx', index=False)"
   ]
  },
  {
   "cell_type": "markdown",
   "metadata": {},
   "source": [
    "### Calculation of Forces\n",
    "\n",
    "#### Brake cylinder force\n",
    "\n",
    "Brake cylinder force is identical for disc and tread brake.\n",
    "\n",
    "$$\n",
    "F_C = p_C A_C i_C \\eta_C + F_{c,C}\n",
    "$$\n",
    "\n",
    "#### Block or pad force\n",
    "\n",
    "Block or pad forces may also be covered similarly when taking into account that $F_{s, rig} = 0$ for disc brakes and potentially $F_n$ relates to more than one block.\n",
    "\n",
    "$$\n",
    "F_n = F_b = F_C i_{rig} \\eta_{rig, dyn} + F_{s, rig}\n",
    "$$\n",
    "\n",
    "#### Average force per brake unit\n",
    "\n",
    "This worksheet omits transmissions (with $i_{tra}$ and $\\eta_{tra}$). For tread brakes, select $r_S = \\frac{1}{2} D$.\n",
    "\n",
    "$$\n",
    "\\bar{F}_B,C = F_b \\mu_m \\frac{2 r_s}{D}\n",
    "$$"
   ]
  },
  {
   "cell_type": "code",
   "execution_count": null,
   "metadata": {},
   "outputs": [],
   "source": [
    "# Brake cylinder force\n",
    "df['FC'] = df['pC']*1e5*df['AC']*1e-4*df['iC']*df['etaC']+df['Fs,C']\n",
    "# Block or pad force\n",
    "df['Fb'] = df['FC']*df['irig']*df['etarig,dyn']+df['Fs,rig']\n",
    "# Average force per brake unit\n",
    "df['FB,i'] = df['Fb']*df['mum']*df['rS']/df['D']*2"
   ]
  },
  {
   "cell_type": "markdown",
   "metadata": {},
   "source": [
    "#### Equivalent brake build-up time\n",
    "\n",
    "\\begin{equation}\n",
    "t_{e,i} = t_a + \\frac{t_{ab}}{2}\n",
    "\\end{equation}"
   ]
  },
  {
   "cell_type": "code",
   "execution_count": null,
   "metadata": {},
   "outputs": [],
   "source": [
    "# Equivalent brake build-up time\n",
    "df['te,i'] = df['ta'] + 0.5*df['tab']"
   ]
  },
  {
   "cell_type": "markdown",
   "metadata": {},
   "source": [
    "## Stopping distance calculation\n",
    "\n",
    "Following losely EN 14531, App. D. The present calculcation takes into account rotating masses and a resistance force."
   ]
  },
  {
   "cell_type": "code",
   "execution_count": null,
   "metadata": {},
   "outputs": [],
   "source": [
    "# Initial velocity\n",
    "v0 = 45\n",
    "# Terminal velocity\n",
    "vfin = 0"
   ]
  },
  {
   "cell_type": "markdown",
   "metadata": {},
   "source": [
    "### Dynamical mass (train level)\n",
    "\n",
    "$$\n",
    "m_{dyn} = \\Sigma\\left(m_{st} + m_{rot} \\right)\n",
    "$$"
   ]
  },
  {
   "cell_type": "code",
   "execution_count": null,
   "metadata": {},
   "outputs": [],
   "source": [
    "mdyn = df['mst'].sum() + df['mrot'].sum()"
   ]
  },
  {
   "cell_type": "markdown",
   "metadata": {},
   "source": [
    "### Mean resistance\n",
    "\n",
    "Ride resistance is calculcated as \n",
    "\n",
    "$$\n",
    "\\bar{F}_{Ra} = A + \\frac{2}{3} B \\frac{v_0^2 + v_0 v_{fin} + v_{fin}^2}{v_0 + v_{fin}} + \\frac{1}{2} C \\left(v_0^2 + v_{fin}^2\\right)\n",
    "$$\n",
    "\n",
    "with coefficients $A$, $B$ and $C$ according to the vehicle."
   ]
  },
  {
   "cell_type": "code",
   "execution_count": null,
   "metadata": {},
   "outputs": [],
   "source": [
    "# Vehicle data, resistance coefficients\n",
    "A = 3000\n",
    "B = 110\n",
    "C = 7\n",
    "\n",
    "FRa = A + 2/3*B*(v0**2 + v0*vfin + vfin**2)/(v0+vfin) + 1/2*C*(v0**2+vfin**2)"
   ]
  },
  {
   "cell_type": "markdown",
   "metadata": {},
   "source": [
    "### Equivalent brake build up time\n",
    "\n",
    "$$\n",
    "t_e = \\frac{\\Sigma\\left(t_{e,i} \\bar{F}_{B,i} \\right)}{\\Sigma\\bar{F}_{B,i} + \\Sigma\\bar{F}_{ext}}\n",
    "$$\n",
    "\n"
   ]
  },
  {
   "cell_type": "code",
   "execution_count": null,
   "metadata": {},
   "outputs": [],
   "source": [
    "Fext = -FRa\n",
    "te = (df['te,i'] * df['FB,i']).sum()/(df['FB,i'].sum() + Fext)"
   ]
  },
  {
   "cell_type": "markdown",
   "metadata": {},
   "source": [
    "### Equivalent retardation\n",
    "\n",
    "$$\n",
    "a_e = \\frac{\\Sigma\\bar{F}_{B,i} + \\Sigma\\bar{F}_{ext}}{m_{dyn}}\n",
    "$$"
   ]
  },
  {
   "cell_type": "code",
   "execution_count": null,
   "metadata": {},
   "outputs": [],
   "source": [
    "ae = (df['FB,i'].sum() + Fext)/mdyn"
   ]
  },
  {
   "cell_type": "markdown",
   "metadata": {},
   "source": [
    "### Stopping distance\n",
    "\n",
    "$$\n",
    "s = v_0 t_e + \\frac{v_0^2 - v_{fin}^2}{2 a_e}\n",
    "$$"
   ]
  },
  {
   "cell_type": "code",
   "execution_count": null,
   "metadata": {},
   "outputs": [],
   "source": [
    "s = v0*te + (v0**2 - vfin**2)/(2*ae)"
   ]
  },
  {
   "cell_type": "markdown",
   "metadata": {},
   "source": [
    "### Required adhesion\n",
    "\n",
    "$$\n",
    "\\tau_{req} = \\frac{\\Sigma_{ax} \\bar{F}_{B,i} - m_{rot, i} a_e}{m_{st} g}\n",
    "$$"
   ]
  },
  {
   "cell_type": "code",
   "execution_count": null,
   "metadata": {},
   "outputs": [],
   "source": [
    "df['taureq'] = (df['FB,i'] - df['mrot']*ae)/(df['mst']*9.81)"
   ]
  },
  {
   "cell_type": "markdown",
   "metadata": {},
   "source": [
    "### Energy and power calculcations\n",
    "\n",
    "$$\n",
    "W_{B,i} = F_{B,i} \\left(s - v_0 t_e\\right)\n",
    "$$\n",
    "\n",
    "$$\n",
    "P_{max,i} = F_{B,i} v_0\n",
    "$$"
   ]
  },
  {
   "cell_type": "code",
   "execution_count": null,
   "metadata": {},
   "outputs": [],
   "source": [
    "df['WB,i'] = df['FB,i']*(s-v0*te)\n",
    "df['Pmax,i'] = df['FB,i']*v0"
   ]
  },
  {
   "cell_type": "markdown",
   "metadata": {},
   "source": [
    "### Create summary table"
   ]
  },
  {
   "cell_type": "code",
   "execution_count": null,
   "metadata": {
    "code_folding": []
   },
   "outputs": [],
   "source": [
    "result = [['m_dyn/kg', mdyn, 'Dynamical mass'],\n",
    "        ['v_0/m/s^2', v0, 'Initial velocity'],\n",
    "        ['F_Ra,m/N', FRa, 'Mean ride resistance'], \n",
    "        ['t_e/s', te, 'Equivalent build-up time'], \n",
    "        ['a_e/m/s^2', ae, 'Equivalent deceleration'], \n",
    "        ['s/m', s, 'Braking distande'], \n",
    "        ['tau_req', df['taureq'].max(), 'Required adhesion']]\n",
    "dftrain = pd.DataFrame(data = result, columns = ['Key', 'Value', 'Semantic'])\n",
    "dftrain.head(7)\n",
    "# Uncomment for Excel export\n",
    "#dftrain.to_excel('OutputXMU.xlsx', index=False)"
   ]
  },
  {
   "cell_type": "markdown",
   "metadata": {},
   "source": [
    "### Braked weight ratio\n",
    "\n",
    "#### Replicate tests\n",
    "\n",
    "Repeated brake distance measurements for 160 km/h, ...,100 km/h.\n",
    "\n"
   ]
  },
  {
   "cell_type": "code",
   "execution_count": null,
   "metadata": {},
   "outputs": [],
   "source": [
    "v0list = [100, 120, 140, 160]\n",
    "bsdict = {}\n",
    "for v0 in v0list:\n",
    "    v0str = str(v0)\n",
    "    v0 = v0/3.6 # Convert to m/s\n",
    "    s = v0*te + (v0**2 - vfin**2)/(2*ae)\n",
    "    bsdict[v0str] = s"
   ]
  },
  {
   "cell_type": "markdown",
   "metadata": {},
   "source": [
    "#### Plot braking distances\n",
    "\n",
    "Into plot according to EN 16834."
   ]
  },
  {
   "cell_type": "code",
   "execution_count": null,
   "metadata": {},
   "outputs": [],
   "source": [
    "CDdict = {'100': [52840, 10],\n",
    "'120': [83634, 19],\n",
    "'140': [119179, 19],\n",
    "'160': [161280, 19]}\n",
    "\n",
    "# Single vehicles\n",
    "\n",
    "curvedict = {}\n",
    "for v in list(CDdict.keys())[1:]:\n",
    "    l = np.arange(start = 40, stop = 250, step = 10)\n",
    "    params = CDdict[str(v)]\n",
    "    c = params[0]/(l+params[1])\n",
    "    curvedict[str(v)] = c\n",
    "for v in [100]:\n",
    "    l = np.arange(start = 50, stop = 140, step = 10)\n",
    "    params = CDdict[str(v)]\n",
    "    c = params[0]/(l+params[1])\n",
    "    curvedict[str(v)] = c\n",
    "    \n",
    "# Plotting\n",
    "fig = plt.figure(figsize = (16, 9))\n",
    "# Add measurements\n",
    "bslambda = []\n",
    "for v in list(CDdict.keys()):\n",
    "    params = CDdict[str(v)]\n",
    "    s = bsdict[str(v)]\n",
    "    bslambda.append(params[0]/s-params[1])\n",
    "plt.loglog(bslambda, list(bsdict.values()), 'X--', \n",
    "           linewidth = 2, label = \"Calculations\")\n",
    "plt.annotate('$\\lambda = $' + str(int(np.floor(np.min(bslambda)))) + '%', \n",
    "             (bslambda[0], list(bsdict.values())[0]),\n",
    "            verticalalignment = 'top',\n",
    "            xytext = (bslambda[0]+3, list(bsdict.values())[0]+25))\n",
    "# Standard curves\n",
    "for v in list(CDdict.keys())[1:]:\n",
    "    c = curvedict[str(v)]\n",
    "    l = np.arange(start = 40, stop = 250, step = 10)\n",
    "    plt.loglog(l, c)\n",
    "    plt.annotate(str(v) + ' km/h', (l[-1],c[-1]))\n",
    "for v in [100]:\n",
    "    c = curvedict[str(v)]\n",
    "    l = np.arange(start = 50, stop = 140, step = 10)\n",
    "    plt.loglog(l, c)\n",
    "    plt.annotate(str(v) + ' km/h', (l[-1],c[-1]))\n",
    "plt.legend(fontsize = 16)\n",
    "# Limit axes\n",
    "plt.ylim(300, 2600)\n",
    "# Set ticks\n",
    "plt.gca().set_yticks(ticks=np.arange(300, 2600, 100), minor = False)\n",
    "plt.gca().set_yticklabels(labels=np.arange(300, 2600, 100), minor = False)\n",
    "plt.gca().set_yticks(ticks=np.arange(300, 2600, 25), minor = True)\n",
    "plt.gca().set_yticklabels(labels=[], minor = True)\n",
    "plt.xticks(ticks=np.arange(30, 260, 10), labels=np.arange(300, 2600, 100))\n",
    "# Set labels\n",
    "plt.gca().xaxis.set_major_formatter(ScalarFormatter(useOffset=False, useMathText=True))\n",
    "plt.gca().yaxis.set_major_formatter(ScalarFormatter(useOffset=False, useMathText=True))\n",
    "# Activate grid\n",
    "plt.grid(visible = True, which = 'major', linewidth = 2)\n",
    "plt.grid(visible = True, which = 'minor', linewidth = 1)\n",
    "# Axis labels\n",
    "plt.xlabel('Braked weight ratio $\\lambda/\\%$', fontsize = 16)\n",
    "plt.ylabel('Braking distance $s/\\mathrm{m}$', fontsize = 16)\n",
    "plt.title('Brake Assesment for Single Vehicle', fontsize = 20)\n",
    "plt.xlim(40, 240)"
   ]
  },
  {
   "cell_type": "markdown",
   "metadata": {},
   "source": [
    "### Result data table"
   ]
  },
  {
   "cell_type": "code",
   "execution_count": null,
   "metadata": {},
   "outputs": [],
   "source": [
    "df.head(12)"
   ]
  },
  {
   "cell_type": "markdown",
   "metadata": {},
   "source": [
    "## Separate plot of brake assesment graphic\n",
    "\n",
    "As above, without plotted braking distances."
   ]
  },
  {
   "cell_type": "code",
   "execution_count": null,
   "metadata": {},
   "outputs": [],
   "source": [
    "# Data for plot\n",
    "CDdict = {'100': [61300, 8.9],\n",
    "'120': [91633, 11.6],\n",
    "'140': [130995, 11.6],\n",
    "'150': [152640, 11.6],\n",
    "'160': [176714, 11.6],\n",
    "'180': [228219, 11.6],\n",
    "'200': [287620, 11.6]}\n",
    "\n",
    "curvedict = {}\n",
    "for v in [120, 140, 150, 160, 180, 200]:\n",
    "    l = np.arange(start = 40, stop = 250, step = 10)\n",
    "    params = CDdict[str(v)]\n",
    "    c = params[0]/(l+params[1])\n",
    "    curvedict[str(v)] = c\n",
    "for v in [100]:\n",
    "    l = np.arange(start = 50, stop = 140, step = 10)\n",
    "    params = CDdict[str(v)]\n",
    "    c = params[0]/(l+params[1])\n",
    "    curvedict[str(v)] = c\n",
    "    \n",
    "# Plotting\n",
    "fig = plt.figure(figsize = (16, 9))\n",
    "for v in [120, 140, 150, 160, 180, 200]:\n",
    "    c = curvedict[str(v)]\n",
    "    l = np.arange(start = 40, stop = 250, step = 10)\n",
    "    plt.loglog(l, c)\n",
    "    plt.annotate(str(v) + ' km/h', (l[-1],c[-1]))\n",
    "for v in [100]:\n",
    "    c = curvedict[str(v)]\n",
    "    l = np.arange(start = 50, stop = 140, step = 10)\n",
    "    plt.loglog(l, c)\n",
    "    plt.annotate(str(v) + ' km/h', (l[-1],c[-1]))\n",
    "# Limit axes\n",
    "plt.ylim(300, 2600)\n",
    "plt.xlim(40, 240)\n",
    "# Set ticks\n",
    "plt.gca().set_yticks(ticks=np.arange(300, 2600, 100), minor = False)\n",
    "plt.gca().set_yticklabels(labels=np.arange(300, 2600, 100), minor = False)\n",
    "plt.gca().set_yticks(ticks=np.arange(300, 2600, 25), minor = True)\n",
    "plt.gca().set_yticklabels(labels=[], minor = True)\n",
    "plt.xticks(ticks=np.arange(30, 260, 10), labels=np.arange(300, 2600, 100))\n",
    "# Set labels\n",
    "plt.gca().xaxis.set_major_formatter(ScalarFormatter(useOffset=False, useMathText=True))\n",
    "plt.gca().yaxis.set_major_formatter(ScalarFormatter(useOffset=False, useMathText=True))\n",
    "# Activate grid\n",
    "plt.grid(visible = True, which = 'major', linewidth = 2)\n",
    "plt.grid(visible = True, which = 'minor', linewidth = 1)\n",
    "# Axis labels\n",
    "plt.xlabel('Braked weight ratio $\\lambda/\\%$', fontsize = 16)\n",
    "plt.ylabel('Braking distance $s/\\mathrm{m}$', fontsize = 16)\n",
    "plt.title('Brake Assesment for trains', fontsize = 20)\n",
    "# Uncomment for saving\n",
    "# plt.savefig('BrakeAssesment.pdf')"
   ]
  },
  {
   "cell_type": "markdown",
   "metadata": {},
   "source": [
    "---\n",
    "## German version\n",
    "\n",
    "### Bremsgewicht nach UIC 544-1\n",
    "\n",
    "#### Bremswege plotten\n",
    "\n",
    "In Graphen nach UIC 544-1."
   ]
  },
  {
   "cell_type": "code",
   "execution_count": null,
   "metadata": {},
   "outputs": [],
   "source": [
    "# Struct to contain values for conversion s <-> lambda\n",
    "CDdict = {'100': [61300, 8.9],\n",
    "'120': [91633, 11.6],\n",
    "'140': [130995, 11.6],\n",
    "'150': [152640, 11.6],\n",
    "'160': [176714, 11.6],\n",
    "'180': [228219, 11.6],\n",
    "'200': [287620, 11.6]}\n",
    "\n",
    "curvedict = {}\n",
    "for v in [120, 140, 150, 160, 180, 200]:\n",
    "    l = np.arange(start = 40, stop = 250, step = 10)\n",
    "    params = CDdict[str(v)]\n",
    "    c = params[0]/(l+params[1])\n",
    "    curvedict[str(v)] = c\n",
    "for v in [100]:\n",
    "    l = np.arange(start = 50, stop = 140, step = 10)\n",
    "    params = CDdict[str(v)]\n",
    "    c = params[0]/(l+params[1])\n",
    "    curvedict[str(v)] = c\n",
    "    \n",
    "# Plotting\n",
    "fig = plt.figure(figsize = (16, 9))\n",
    "# Add measurements\n",
    "bslambda = []\n",
    "for v in [120, 140, 160, 200]:\n",
    "    params = CDdict[str(v)]\n",
    "    s = bsdict[str(v)]\n",
    "    bslambda.append(params[0]/s-params[1])\n",
    "plt.loglog(bslambda, list(bsdict.values()), 'X--', \n",
    "           linewidth = 2, label = \"Bremswege\")\n",
    "plt.annotate('$\\lambda = $' + str(int(np.floor(np.min(bslambda)))) + '%', \n",
    "             (bslambda[0], list(bsdict.values())[0]),\n",
    "            verticalalignment = 'top',\n",
    "            xytext = (bslambda[0]+3, list(bsdict.values())[0]+26))\n",
    "# Standard curves\n",
    "for v in [120, 140, 150, 160, 180, 200]:\n",
    "    c = curvedict[str(v)]\n",
    "    l = np.arange(start = 40, stop = 250, step = 10)\n",
    "    plt.loglog(l, c)\n",
    "    plt.annotate(str(v) + ' km/h', (l[-1],c[-1]))\n",
    "for v in [100]:\n",
    "    c = curvedict[str(v)]\n",
    "    l = np.arange(start = 50, stop = 140, step = 10)\n",
    "    plt.loglog(l, c)\n",
    "    plt.annotate(str(v) + ' km/h', (l[-1],c[-1]))\n",
    "plt.legend(fontsize = 16)\n",
    "# Limit axes\n",
    "plt.ylim(300, 2600)\n",
    "plt.xlim(40, 240)\n",
    "# Set ticks\n",
    "plt.gca().set_yticks(ticks=np.arange(300, 2600, 100), minor = False)\n",
    "plt.gca().set_yticklabels(labels=np.arange(300, 2600, 100), minor = False)\n",
    "plt.gca().set_yticks(ticks=np.arange(300, 2600, 25), minor = True)\n",
    "plt.gca().set_yticklabels(labels=[], minor = True)\n",
    "plt.xticks(ticks=np.arange(30, 260, 10), labels=np.arange(300, 2600, 100))\n",
    "# Set labels\n",
    "plt.gca().xaxis.set_major_formatter(ScalarFormatter(useOffset=False, useMathText=True))\n",
    "plt.gca().yaxis.set_major_formatter(ScalarFormatter(useOffset=False, useMathText=True))\n",
    "# Activate grid\n",
    "plt.grid(visible = True, which = 'major', linewidth = 1)\n",
    "plt.grid(visible = True, which = 'minor', linewidth = .5)\n",
    "# Axis labels\n",
    "plt.xlabel('BrH $\\lambda/\\%$', fontsize = 16)\n",
    "plt.ylabel('Bremsweg $s/\\mathrm{m}$', fontsize = 16)\n",
    "plt.title('Bremsbewertung für Züge', fontsize = 20)\n",
    "# Uncomment for saving\n",
    "#plt.savefig('BrakeAssesmentwMeasurementsDE.pdf')"
   ]
  }
 ],
 "metadata": {
  "kernelspec": {
   "display_name": "base",
   "language": "python",
   "name": "base"
  },
  "language_info": {
   "codemirror_mode": {
    "name": "ipython",
    "version": 3
   },
   "file_extension": ".py",
   "mimetype": "text/x-python",
   "name": "python",
   "nbconvert_exporter": "python",
   "pygments_lexer": "ipython3",
   "version": "3.8.18"
  },
  "vscode": {
   "interpreter": {
    "hash": "aee8b7b246df8f9039afb4144a1f6fd8d2ca17a180786b69acc140d282b71a49"
   }
  }
 },
 "nbformat": 4,
 "nbformat_minor": 4
}
